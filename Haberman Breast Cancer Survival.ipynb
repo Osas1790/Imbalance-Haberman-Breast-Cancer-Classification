{
 "cells": [
  {
   "cell_type": "markdown",
   "metadata": {},
   "source": [
    "## Haberman Breast Cancer Classification\n",
    "\n",
    "In this project, i will use a small breast cancer survival dataset, referred to generally as the\n",
    "Haberman Dataset. The dataset describes breast cancer patient data and the outcome is patient\n",
    "survival. Specifically whether the patient survived for five years or longer, or whether the\n",
    "patient did not survive. This is a standard dataset used in the study of imbalanced classification.\n",
    "According to the dataset description, the breast cancer surgery operations were conducted\n",
    "between 1958 and 1970 at the University of Chicago’s Billings Hospital. There are 306 examples\n",
    "in the dataset, and there are 3 input variables; they are:\n",
    "- The age of the patient at the time of the operation.\n",
    "- The two-digit year of the operation.\n",
    "- The number of positive axillary nodes detected, a measure of a cancer has spread.\n",
    "As such, i have no control over the selection of cases that make up the dataset or features\n",
    "to use in those cases, other than what is available in the dataset. Although the dataset describes\n",
    "breast cancer patient survival, given the small dataset size and the fact the data is based on\n",
    "breast cancer diagnosis and operations many decades ago, any models built on this dataset are\n",
    "not expected to generalize.\n",
    "To be crystal clear, I am  not solving breast cancer. I am exploring a standard imbalanced\n",
    "classification dataset. i choose to frame this dataset as the prediction of a probability of\n",
    "patient survival. That is: Given patient breast cancer surgery details, what is the probability of\n",
    "survival of the patient to five years or more?\n",
    "This will provide the basis for exploring probabilistic algorithms that can predict a probability\n",
    "instead of a class label and metrics for evaluating models that predict probabilities instead of\n",
    "class labels. Next, let’s take a closer look at the data.\n"
   ]
  },
  {
   "cell_type": "code",
   "execution_count": 1,
   "metadata": {},
   "outputs": [],
   "source": [
    "# compare probabilistic model on the haberman dataset\n",
    "\n",
    "import pandas as pd \n",
    "import numpy as np \n",
    "from numpy import mean\n",
    "from numpy import std\n",
    "from pandas import read_csv\n",
    "from matplotlib import pyplot\n",
    "from sklearn.preprocessing import LabelEncoder\n",
    "from sklearn.model_selection import cross_val_score\n",
    "from sklearn.model_selection import RepeatedStratifiedKFold\n",
    "from sklearn.metrics import brier_score_loss\n",
    "from sklearn.metrics import make_scorer\n",
    "from sklearn.linear_model import LogisticRegression\n",
    "from sklearn.discriminant_analysis import LinearDiscriminantAnalysis\n",
    "from sklearn.discriminant_analysis import QuadraticDiscriminantAnalysis\n",
    "from sklearn.naive_bayes import GaussianNB\n",
    "from sklearn.naive_bayes import MultinomialNB\n",
    "from sklearn.gaussian_process import GaussianProcessClassifier"
   ]
  },
  {
   "cell_type": "code",
   "execution_count": 16,
   "metadata": {},
   "outputs": [
    {
     "data": {
      "text/html": [
       "<div>\n",
       "<style scoped>\n",
       "    .dataframe tbody tr th:only-of-type {\n",
       "        vertical-align: middle;\n",
       "    }\n",
       "\n",
       "    .dataframe tbody tr th {\n",
       "        vertical-align: top;\n",
       "    }\n",
       "\n",
       "    .dataframe thead th {\n",
       "        text-align: right;\n",
       "    }\n",
       "</style>\n",
       "<table border=\"1\" class=\"dataframe\">\n",
       "  <thead>\n",
       "    <tr style=\"text-align: right;\">\n",
       "      <th></th>\n",
       "      <th>age</th>\n",
       "      <th>year</th>\n",
       "      <th>nodes</th>\n",
       "      <th>class</th>\n",
       "    </tr>\n",
       "  </thead>\n",
       "  <tbody>\n",
       "    <tr>\n",
       "      <th>0</th>\n",
       "      <td>30</td>\n",
       "      <td>64</td>\n",
       "      <td>1</td>\n",
       "      <td>1</td>\n",
       "    </tr>\n",
       "    <tr>\n",
       "      <th>1</th>\n",
       "      <td>30</td>\n",
       "      <td>62</td>\n",
       "      <td>3</td>\n",
       "      <td>1</td>\n",
       "    </tr>\n",
       "    <tr>\n",
       "      <th>2</th>\n",
       "      <td>30</td>\n",
       "      <td>65</td>\n",
       "      <td>0</td>\n",
       "      <td>1</td>\n",
       "    </tr>\n",
       "    <tr>\n",
       "      <th>3</th>\n",
       "      <td>31</td>\n",
       "      <td>59</td>\n",
       "      <td>2</td>\n",
       "      <td>1</td>\n",
       "    </tr>\n",
       "    <tr>\n",
       "      <th>4</th>\n",
       "      <td>31</td>\n",
       "      <td>65</td>\n",
       "      <td>4</td>\n",
       "      <td>1</td>\n",
       "    </tr>\n",
       "    <tr>\n",
       "      <th>5</th>\n",
       "      <td>33</td>\n",
       "      <td>58</td>\n",
       "      <td>10</td>\n",
       "      <td>1</td>\n",
       "    </tr>\n",
       "    <tr>\n",
       "      <th>6</th>\n",
       "      <td>33</td>\n",
       "      <td>60</td>\n",
       "      <td>0</td>\n",
       "      <td>1</td>\n",
       "    </tr>\n",
       "    <tr>\n",
       "      <th>7</th>\n",
       "      <td>34</td>\n",
       "      <td>59</td>\n",
       "      <td>0</td>\n",
       "      <td>2</td>\n",
       "    </tr>\n",
       "    <tr>\n",
       "      <th>8</th>\n",
       "      <td>34</td>\n",
       "      <td>66</td>\n",
       "      <td>9</td>\n",
       "      <td>2</td>\n",
       "    </tr>\n",
       "    <tr>\n",
       "      <th>9</th>\n",
       "      <td>34</td>\n",
       "      <td>58</td>\n",
       "      <td>30</td>\n",
       "      <td>1</td>\n",
       "    </tr>\n",
       "  </tbody>\n",
       "</table>\n",
       "</div>"
      ],
      "text/plain": [
       "   age  year  nodes  class\n",
       "0   30    64      1      1\n",
       "1   30    62      3      1\n",
       "2   30    65      0      1\n",
       "3   31    59      2      1\n",
       "4   31    65      4      1\n",
       "5   33    58     10      1\n",
       "6   33    60      0      1\n",
       "7   34    59      0      2\n",
       "8   34    66      9      2\n",
       "9   34    58     30      1"
      ]
     },
     "execution_count": 16,
     "metadata": {},
     "output_type": "execute_result"
    }
   ],
   "source": [
    "# loading the dataset\n",
    "filepath = \"E:\\IMBALANCE ANALYSIS\\haberman.csv\"\n",
    "columns = ['age', 'year', 'nodes', 'class'] # Given the columns name\n",
    "data = pd.read_csv(filepath, header=None, names=columns)\n",
    "data.head(10)"
   ]
  },
  {
   "cell_type": "markdown",
   "metadata": {},
   "source": [
    "calling the describe() function to create a summary of each column and print\n",
    "the contents of the report. A summary for a column includes useful details like the min and\n",
    "max values, the mean and standard deviation of which are useful if the variable has a Gaussian\n",
    "distribution, and the 25th, 50th, and 75th quartiles, which are useful if the variable does not\n",
    "have a Gaussian distribution.\n"
   ]
  },
  {
   "cell_type": "code",
   "execution_count": 21,
   "metadata": {},
   "outputs": [
    {
     "name": "stdout",
     "output_type": "stream",
     "text": [
      "       count       mean        std   min   25%   50%    75%   max\n",
      "age    306.0  52.457516  10.803452  30.0  44.0  52.0  60.75  83.0\n",
      "year   306.0  62.852941   3.249405  58.0  60.0  63.0  65.75  69.0\n",
      "nodes  306.0   4.026144   7.189654   0.0   0.0   1.0   4.00  52.0\n",
      "class  306.0   1.264706   0.441899   1.0   1.0   1.0   2.00   2.0\n"
     ]
    }
   ],
   "source": [
    "# summarize each column\n",
    "\n",
    "reports = data.describe()\n",
    "print(reports.T)"
   ]
  },
  {
   "cell_type": "markdown",
   "metadata": {},
   "source": [
    "Looking at the age, I can see that the youngest patient was\n",
    "30 and the oldest was 83; that is quite a range. The mean patient age was about 52 years. If the\n",
    "occurrence of cancer is somewhat random, we might expect the age distribution to be Gaussian.\n",
    "I can see that all operations were performed between 1958 and 1969. If the number of\n",
    "breast cancer patients is somewhat fixed over time, we might expect this variable to have a\n",
    "uniform distribution. We can see nodes have values between 0 and 52. This might be a cancer\n",
    "diagnostic related to lymphatic nodes."
   ]
  },
  {
   "cell_type": "markdown",
   "metadata": {},
   "source": [
    "All variables are integers. Therefore, it might be helpful to look at each variable as a\n",
    "histogram to get an idea of the variable distribution. This might be helpful in case we choose\n",
    "models later that are sensitive to the data distribution or scale of the data, in which case, I\n",
    "might need to transform or rescale the data. We can create a histogram of each variable in the\n",
    "DataFrame by calling the hist() function"
   ]
  },
  {
   "cell_type": "code",
   "execution_count": 23,
   "metadata": {},
   "outputs": [
    {
     "data": {
      "image/png": "[encoded data removed]",
      "text/plain": [
       "<Figure size 432x288 with 4 Axes>"
      ]
     },
     "metadata": {
      "needs_background": "light"
     },
     "output_type": "display_data"
    }
   ],
   "source": [
    "# creating a histogram plot of each variable\n",
    "data.hist()\n",
    "pyplot.show()"
   ]
  },
  {
   "cell_type": "markdown",
   "metadata": {},
   "source": [
    "Running the example creates a histogram for each variable. i can see that age appears\n",
    "to have a Gaussian distribution, as we might have expected.I can also see that year has\n",
    "a uniform distribution, mostly, with an outlier in the first year showing nearly double the\n",
    "number of operations. We can see nodes has an exponential type distribution with perhaps most\n",
    "examples showing 0 nodes, with a long tail of values after that. A transform to un-bunch this\n",
    "distribution might help some models later on. Finally, we can see the two-class values with an\n",
    "unequal class distribution, showing perhaps 2- or 3-times more survival than non-survival cases.\n"
   ]
  },
  {
   "cell_type": "code",
   "execution_count": 29,
   "metadata": {},
   "outputs": [
    {
     "name": "stdout",
     "output_type": "stream",
     "text": [
      "Class=1, Count=225, Percentage=73.529%\n",
      "Class=2, Count=81, Percentage=26.471%\n"
     ]
    }
   ],
   "source": [
    "# It may be helpful to know how imbalanced the dataset actually is. I can use the Counter\n",
    "# object to count the number of examples in each class, then use those counts to summarize the distribution\n",
    "\n",
    "# summarize the class distribution\n",
    "\n",
    "from collections import Counter\n",
    "\n",
    "target = data['class'].values\n",
    "counter = Counter(target)\n",
    "for k, v in counter.items():\n",
    "    per = v / len(target) * 100\n",
    "    print('Class=%d, Count=%d, Percentage=%.3f%%' % (k, v, per))"
   ]
  },
  {
   "cell_type": "markdown",
   "metadata": {},
   "source": [
    "Running the example summarizes the class distribution for the dataset. I can see that\n",
    "class 1 for survival has the most examples at 225, or about 74 percent of the dataset. I can\n",
    "see class 2 for non-survival has fewer examples at 81, or about 26 percent of the dataset. The\n",
    "class distribution is skewed, but it is not severely imbalanced"
   ]
  },
  {
   "cell_type": "code",
   "execution_count": 56,
   "metadata": {},
   "outputs": [],
   "source": [
    "# baseline model and test harness for the haberman dataset\n",
    "from collections import Counter\n",
    "from numpy import mean\n",
    "from numpy import std\n",
    "from pandas import read_csv\n",
    "from sklearn.preprocessing import LabelEncoder\n",
    "from sklearn.model_selection import cross_val_score\n",
    "from sklearn.model_selection import RepeatedStratifiedKFold\n",
    "from sklearn.metrics import brier_score_loss\n",
    "from sklearn.metrics import make_scorer\n",
    "from sklearn.dummy import DummyClassifier"
   ]
  },
  {
   "cell_type": "markdown",
   "metadata": {},
   "source": [
    "#### Model Test and Baseline Result\n",
    "I will evaluate candidate models using repeated stratified k-fold cross-validation. The k-fold\n",
    "cross-validation procedure provides a good general estimate of model performance that is not\n",
    "too optimistically biased, at least compared to a single train-test split. We will use k = 10,\n",
    "meaning each fold will contain 306\n",
    "10 or about 30 examples.\n",
    "Stratified means that each fold will contain the same mixture of examples by class, that is\n",
    "about 74 percent to 26 percent survival and non-survival. Repeated means that the evaluation\n",
    "process will be performed multiple times to help avoid fluke results and better capture the\n",
    "variance of the chosen model. We will use three repeats. This means a single model will be\n",
    "fit and evaluated 10 × 3 (30) times and the mean and standard deviation of these runs will be\n",
    "reported. This can be achieved using the RepeatedStratifiedKFold scikit-learn class.\n",
    "Given that we are interested in predicting a probability of survival, I need a performance\n",
    "metric that evaluates the skill of a model based on the predicted probabilities. In this case,\n",
    "I will use the Brier score that calculates the mean squared error between the predicted\n",
    "probabilities and the expected probabilities. This\n",
    "can be calculated using the brier score loss() scikit-learn function. This score is minimized,\n",
    "with a perfect score of 0.0. We can invert the score to be maximizing by comparing a predicted\n",
    "score to a reference score, showing how much better the model is compared to the reference\n",
    "between 0.0 for the same, to 1.0 with perfect skill. Any models that achieve a score less than\n",
    "0.0 represents less skill than the reference model. This is called the Brier Skill Score, or BSS for\n",
    "short.\n",
    "It is customary for an imbalanced dataset to model the minority class as a positive class. In\n",
    "this dataset, the positive class represents non-survival. This means that we will be predicting\n",
    "the probability of non-survival and will need to calculate the complement of the predicted\n",
    "probability in order to get the probability of survival. As such, we can map the 1 class values\n",
    "(survival) to the negative case with a 0 class label, and the 2 class values (non-survival) to the\n",
    "positive case with a class label of 1. This can be achieved using the LabelEncoder class. For\n",
    "example, the load dataset() function below will load the dataset, split the variable columns\n",
    "into input and outputs, and then encode the target variable to 0 and 1 values"
   ]
  },
  {
   "cell_type": "code",
   "execution_count": 60,
   "metadata": {},
   "outputs": [],
   "source": [
    "# load the dataset\n",
    "def load_dataset(full_path):\n",
    "    # load the dataset as a numpy array\n",
    "    data = read_csv(full_path, header=None)\n",
    "    # retrieve numpy array\n",
    "    data = data.values\n",
    "\n",
    "    #split into input and output elements\n",
    "    X, y = data[:, :-1], data[:, -1]\n",
    "\n",
    "\n",
    "    # label encode the target variable to have the classes 0 and 1\n",
    "    y = LabelEncoder().fit_transform(y)\n",
    "\n",
    "    return X, y"
   ]
  },
  {
   "cell_type": "markdown",
   "metadata": {},
   "source": [
    "Next, i can calculate the Brier skill score for a model. First, i need a Brier score for a\n",
    "reference prediction. A reference prediction for a problem in which i am  predicting probabilities\n",
    "is the probability of the positive class label in the dataset. In this case, the positive class\n",
    "label represents non-survival and occurs about 26% in the dataset. Therefore, predicting about\n",
    "0.26471 represents the worst-case or baseline performance for a predictive model on this dataset.\n",
    "Any model that has a Brier score better than this has some skill, where as any model that\n",
    "as a Brier score lower than this has no skill. The Brier Skill Score captures this important\n",
    "relationship. We can calculate the Brier score for this default prediction strategy automatically\n",
    "for each training set in the k-fold cross-validation process, then use it as a point of comparison\n",
    "for a given model."
   ]
  },
  {
   "cell_type": "code",
   "execution_count": 39,
   "metadata": {},
   "outputs": [],
   "source": [
    "# calculate reference brier score\n",
    "ref_probs = [0.26471 for _ in range(len(y))]\n",
    "bs_ref = brier_score_loss(y, ref_probs)\n"
   ]
  },
  {
   "cell_type": "code",
   "execution_count": 54,
   "metadata": {},
   "outputs": [],
   "source": [
    "# calculate brier skill score (BSS)\n",
    "def brier_skill_score(y_true, y_prob):\n",
    "\n",
    "    # calculate reference brier score\n",
    "    ref_probs = [0.26471 for _ in range(len(y_true))]\n",
    "    bs_ref = brier_score_loss(y_true, ref_probs)\n",
    "\n",
    "    # calculate model brier score\n",
    "    bs_model = brier_score_loss(y_true, y_prob)\n",
    "    \n",
    "    # calculate skill score\n",
    "    return 1.0 - (bs_model / bs_ref)"
   ]
  },
  {
   "cell_type": "markdown",
   "metadata": {},
   "source": [
    "Next, i can make use of the brier skill score() function to evaluate a model using\n",
    "repeated stratified k-fold cross-validation. To use our custom performance metric, i can\n",
    "use the make scorer() scikit-learn function that takes the name of our custom function and\n",
    "creates a metric that i can use to evaluate models with the scikit-learn API. i will set the\n",
    "needs proba argument to True to ensure that models that are evaluated make predictions using\n",
    "the predict proba() function to ensure they give probabilities instead of class labels."
   ]
  },
  {
   "cell_type": "code",
   "execution_count": 55,
   "metadata": {},
   "outputs": [],
   "source": [
    "# evaluate a model\n",
    "def evaluate_model(X, y, model):\n",
    "\n",
    "    # define evaluation procedure\n",
    "    cv = RepeatedStratifiedKFold(n_splits=10, n_repeats=3, random_state=1)\n",
    "\n",
    "    # define the model evaluation metric\n",
    "    metric = make_scorer(brier_skill_score, needs_proba=True)\n",
    "    \n",
    "    # evaluate model\n",
    "    scores = cross_val_score(model, X, y, scoring=metric, cv=cv, n_jobs=-1)\n",
    "    return scores\n"
   ]
  },
  {
   "cell_type": "markdown",
   "metadata": {},
   "source": [
    "The evaluate model() function below defines the evaluation procedure with our custom\n",
    "evaluation metric, taking the entire training dataset and model as input, then returns the sample\n",
    "of scores across each fold and each repeat."
   ]
  },
  {
   "cell_type": "code",
   "execution_count": 61,
   "metadata": {},
   "outputs": [
    {
     "name": "stdout",
     "output_type": "stream",
     "text": [
      "(306, 3) (306,) Counter({0: 225, 1: 81})\n",
      "Mean BSS: -0.000 (0.000)\n"
     ]
    }
   ],
   "source": [
    "# define the location of the dataset\n",
    "full_path = \"E:\\IMBALANCE ANALYSIS\\haberman.csv\"\n",
    "\n",
    "# load the dataset\n",
    "X, y = load_dataset(full_path)\n",
    "\n",
    "# summarize the loaded dataset\n",
    "print(X.shape, y.shape, Counter(y))\n",
    "\n",
    "# define the reference model\n",
    "model = DummyClassifier(strategy='prior')\n",
    "\n",
    "# In this case, i will be evaluate the baseline strategy of predicting the distribution of positive\n",
    "# examples in the training set as the probability of each case in the test set. This can be\n",
    "# implemented automatically using the DummyClassifier class and setting the strategy to\n",
    "# ‘prior’ that will predict the prior probability of each class in the training dataset, which for\n",
    "# the positive class we know is about 0.26471\n",
    "\n",
    "# evaluate the model\n",
    "scores = evaluate_model(X, y, model)\n",
    "\n",
    "# summarize performance\n",
    "print('Mean BSS: %.3f (%.3f)' % (mean(scores), std(scores)))\n",
    "\n"
   ]
  },
  {
   "cell_type": "markdown",
   "metadata": {},
   "source": [
    "Running the example first loads the dataset and reports the number of cases correctly as\n",
    "306 and the distribution of class labels for the negative and positive cases as we expect. The\n",
    "DummyClassifier with  default strategy is then evaluated using repeated stratified k-fold\n",
    "cross-validation and the mean and standard deviation of the Brier Skill Score is reported as 0.0.\n",
    "This is as we expected, as we are using the test harness to evaluate the reference strategy."
   ]
  },
  {
   "cell_type": "markdown",
   "metadata": {},
   "source": [
    "## Evaluating Probabilistic Models\n",
    "In this section of the code, i will use the test harness developed in the previous section to evaluate a suite\n",
    "of algorithms and then improvements to those algorithms, such as data preparation schemes.\n",
    "\n",
    "\n",
    "I will evaluate a suite of models that are known to be effective at predicting probabilities.\n",
    "Specifically, these are models that are fit under a probabilistic framework and explicitly predict a\n",
    "calibrated probability for each example. As such, this makes them well-suited to this dataset, even\n",
    "with the class imbalance. I will evaluate the following six probabilistic models implemented\n",
    "with the scikit-learn library:\n",
    "- Logistic Regression (LR)\n",
    "- Linear Discriminant Analysis (LDA)\n",
    "- Quadratic Discriminant Analysis (QDA)\n",
    "- Gaussian Naive Bayes (GNB)\n",
    "- Multinomial Naive Bayes (MNB)\n",
    "- Gaussian Process (GPC)\n",
    "\n",
    "\n",
    "I am interested in directly comparing the results from each of these algorithms. Each algorithm will be compare based on the mean score, as well as based on their distribution of scores.\n",
    "\n",
    "I define a function to create models that we want to evaluate, each with their default\n",
    "configuration or configured as to not produce a warning.\n"
   ]
  },
  {
   "cell_type": "code",
   "execution_count": 66,
   "metadata": {},
   "outputs": [
    {
     "name": "stdout",
     "output_type": "stream",
     "text": [
      ">LR 0.060 (0.143)\n",
      ">LDA 0.064 (0.154)\n",
      ">QDA 0.027 (0.221)\n",
      ">GNB 0.012 (0.212)\n",
      ">GPC -0.142 (0.041)\n"
     ]
    },
    {
     "data": {
      "image/png": "[encoded data removed]",
      "text/plain": [
       "<Figure size 432x288 with 1 Axes>"
      ]
     },
     "metadata": {
      "needs_background": "light"
     },
     "output_type": "display_data"
    }
   ],
   "source": [
    "from sklearn.linear_model import LogisticRegression\n",
    "from sklearn.discriminant_analysis import LinearDiscriminantAnalysis\n",
    "from sklearn.discriminant_analysis import QuadraticDiscriminantAnalysis\n",
    "from sklearn.naive_bayes import GaussianNB\n",
    "from sklearn.naive_bayes import MultinomialNB\n",
    "from sklearn.gaussian_process import GaussianProcessClassifier\n",
    "\n",
    "\n",
    "\n",
    "# defining models to test\n",
    "def get_models():\n",
    "    models, names = list(), list()\n",
    "\n",
    "    # LR\n",
    "    models.append(LogisticRegression(solver='lbfgs'))\n",
    "    names.append('LR')\n",
    "\n",
    "    # LDA\n",
    "    models.append(LinearDiscriminantAnalysis())\n",
    "    names.append('LDA')\n",
    "\n",
    "    # QDA\n",
    "    models.append(QuadraticDiscriminantAnalysis())\n",
    "    names.append('QDA')\n",
    "\n",
    "    # GNB\n",
    "    models.append(GaussianNB())\n",
    "    names.append('GNB')\n",
    "\n",
    "    # MNB\n",
    "    #models.append(MultinomialNB())\n",
    "    #names.append('MNB')\n",
    "\n",
    "    # GPC\n",
    "    models.append(GaussianProcessClassifier())\n",
    "    names.append('GPC')\n",
    "    return models, names\n",
    "\n",
    "\n",
    "# define models\n",
    "models, names = get_models()\n",
    "results = list()\n",
    "\n",
    "# evaluate each model\n",
    "for i in range(len(models)):\n",
    "\n",
    "    # evaluate the model and store results\n",
    "    scores = evaluate_model(X, y, models[i])\n",
    "    results.append(scores)\n",
    "\n",
    "    # summarize and store\n",
    "    print('>%s %.3f (%.3f)' % (names[i], mean(scores), std(scores)))\n",
    "\n",
    "    \n",
    "# plot the results\n",
    "pyplot.boxplot(results, labels=names, showmeans=True)\n",
    "pyplot.show()\n",
    "\n",
    "\n"
   ]
  },
  {
   "cell_type": "markdown",
   "metadata": {},
   "source": [
    "The results suggest that only two of the algorithms are not skillful, showing\n",
    "negative scores, and that perhaps the LR and LDA algorithms are the best performing.\n",
    "\n",
    "\n",
    "A box and whisker plot was created summarizing the distribution of results. Interestingly,\n",
    "most if not all algorithms show a spread indicating that they may be unskillful on some of the\n",
    "runs. The distribution between the two top-performing models appears roughly equivalent, so\n",
    "choosing a model based on mean performance might be a good start"
   ]
  },
  {
   "cell_type": "markdown",
   "metadata": {},
   "source": [
    "## Model Evaluation With Scaled Inputs\n",
    "It can be a good practice to scale data for some algorithms if the variables have different units\n",
    "of measure, as they do in this case. Algorithms like the LR and LDA are sensitive to the\n",
    "distribution of the data and assume a Gaussian distribution for the input variables, which i\n",
    "don’t have in all cases.\n",
    "\n",
    "Nevertheless, i can test the algorithms with standardization, where each variable is shifted\n",
    "to a zero mean and unit standard deviation. I will drop the MNB algorithm as it does not\n",
    "support negative input values. I can achieve this by wrapping each model in a Pipeline\n",
    "where the first step is a StandardScaler, which will correctly be fit on the training dataset and\n",
    "applied to the test dataset within each k-fold cross-validation evaluation, preventing any data\n",
    "leakage"
   ]
  },
  {
   "cell_type": "code",
   "execution_count": 67,
   "metadata": {},
   "outputs": [
    {
     "name": "stdout",
     "output_type": "stream",
     "text": [
      ">LR 0.062 (0.140)\n",
      ">LDA 0.064 (0.154)\n",
      ">QDA 0.027 (0.221)\n",
      ">GNB 0.012 (0.212)\n",
      ">GPC 0.097 (0.133)\n"
     ]
    },
    {
     "data": {
      "image/png": "[encoded data removed]",
      "text/plain": [
       "<Figure size 432x288 with 1 Axes>"
      ]
     },
     "metadata": {
      "needs_background": "light"
     },
     "output_type": "display_data"
    }
   ],
   "source": [
    "from sklearn.pipeline import Pipeline\n",
    "from sklearn.preprocessing import StandardScaler\n",
    "\n",
    "# define models\n",
    "models, names = get_models()\n",
    "results = list()\n",
    "\n",
    "# evaluate each model\n",
    "for i in range(len(models)):\n",
    "\n",
    "    # create a pipeline\n",
    "    pipeline = Pipeline(steps=[('t', StandardScaler()),('m',models[i])])\n",
    "\n",
    "    # evaluate the model and store results\n",
    "    scores = evaluate_model(X, y, pipeline)\n",
    "    results.append(scores)\n",
    "\n",
    "\n",
    "    # summarize and store\n",
    "    print('>%s %.3f (%.3f)' % (names[i], mean(scores), std(scores)))\n",
    "\n",
    "\n",
    "# plot the results\n",
    "pyplot.boxplot(results, labels=names, showmeans=True)\n",
    "pyplot.show()\n",
    "\n"
   ]
  },
  {
   "cell_type": "markdown",
   "metadata": {},
   "source": [
    "In this case, the standardization has not had much of an impact on the\n",
    "algorithms, except the GPC. The performance of the GPC with standardization has shot up\n",
    "and is now the best-performing technique. This highlights the importance of preparing data to\n",
    "meet the expectations of each model.\n"
   ]
  },
  {
   "cell_type": "markdown",
   "metadata": {},
   "source": [
    "## Model Evaluation With Power Transform\n",
    "Power transforms, such as the Box-Cox and Yeo-Johnson transforms, are designed to change\n",
    "the distribution to be more Gaussian. This will help with the age input variable in our dataset\n",
    "and may help with the nodes variable and un-bunch the distribution slightly\n",
    "\n",
    "The power transform may make use of a log() function, which does not work on zero\n",
    "values. I have zero values in our dataset, therefore I will scale the dataset prior to the power\n",
    "transform using a MinMaxScaler. Again, I can use this transform in a Pipeline to ensure it\n",
    "is fit on the training dataset and applied to the train and test datasets correctly, without data\n",
    "leakage."
   ]
  },
  {
   "cell_type": "code",
   "execution_count": 69,
   "metadata": {},
   "outputs": [
    {
     "name": "stdout",
     "output_type": "stream",
     "text": [
      ">LR 0.110 (0.142)\n",
      ">LDA 0.107 (0.164)\n",
      ">GPC 0.100 (0.130)\n"
     ]
    },
    {
     "data": {
      "image/png": "[encoded data removed]",
      "text/plain": [
       "<Figure size 432x288 with 1 Axes>"
      ]
     },
     "metadata": {
      "needs_background": "light"
     },
     "output_type": "display_data"
    }
   ],
   "source": [
    "from sklearn.preprocessing import PowerTransformer\n",
    "from sklearn.preprocessing import MinMaxScaler\n",
    "\n",
    "\n",
    "\n",
    "\n",
    "\n",
    "# define models to test\n",
    "def get_models():\n",
    "    models, names = list(), list()\n",
    "\n",
    "    # LR\n",
    "    models.append(LogisticRegression(solver='lbfgs'))\n",
    "    names.append('LR')\n",
    "\n",
    "    # LDA\n",
    "    models.append(LinearDiscriminantAnalysis())\n",
    "    names.append('LDA')\n",
    "\n",
    "    # GPC\n",
    "    models.append(GaussianProcessClassifier())\n",
    "    names.append('GPC')\n",
    "    return models, names\n",
    "\n",
    "\n",
    "\n",
    "# define models\n",
    "models, names = get_models()\n",
    "results = list()\n",
    "# evaluate each model\n",
    "for i in range(len(models)):\n",
    "\n",
    "    # create a pipeline\n",
    "    steps = [('t1', MinMaxScaler()), ('t2', PowerTransformer()),('m',models[i])]\n",
    "    pipeline = Pipeline(steps=steps)\n",
    "\n",
    "    # evaluate the model and store results\n",
    "    scores = evaluate_model(X, y, pipeline)\n",
    "    results.append(scores)\n",
    "\n",
    "    # summarize and store\n",
    "    print('>%s %.3f (%.3f)' % (names[i], mean(scores), std(scores)))\n",
    "\n",
    "# plot the results\n",
    "pyplot.boxplot(results, labels=names, showmeans=True)\n",
    "pyplot.show()"
   ]
  },
  {
   "cell_type": "markdown",
   "metadata": {},
   "source": [
    "In this case, i can see a further lift in model skill for the three models that were evaluated.\n",
    "i can see that the LR appears to have out-performed the other two methods.\n",
    "\n",
    "Box and whisker plots are created for the results from each algorithm, suggesting perhaps\n",
    "a smaller and more focused spread for LR compared to the LDA, which was the second-best\n",
    "performing method. All methods still show skill on average, however the distribution of scores\n",
    "show runs that drop below 0.0 (no skill) in some cases."
   ]
  },
  {
   "cell_type": "markdown",
   "metadata": {},
   "source": [
    "## Make Prediction on New Data\n",
    "I will select the Logistic Regression model with a power transform on the input data as our\n",
    "final model. We can define and fit this model on the entire training dataset.\n",
    "i can use the fit model to make some predictions of probability for a\n",
    "few cases where we know there is survival and a few where we know there is not."
   ]
  },
  {
   "cell_type": "code",
   "execution_count": 72,
   "metadata": {},
   "outputs": [
    {
     "name": "stdout",
     "output_type": "stream",
     "text": [
      "Survival Cases:\n",
      ">data=[31, 59, 2], Survival=83.597%\n",
      ">data=[31, 65, 4], Survival=77.264%\n",
      ">data=[34, 60, 1], Survival=86.776%\n",
      "Non-Survival Cases:\n",
      ">data=[44, 64, 6], Survival=63.092%\n",
      ">data=[34, 66, 9], Survival=63.452%\n",
      ">data=[38, 69, 21], Survival=53.389%\n"
     ]
    }
   ],
   "source": [
    "# fit a model and make predictions for the haberman dataset\n",
    "from pandas import read_csv\n",
    "from sklearn.preprocessing import LabelEncoder\n",
    "from sklearn.linear_model import LogisticRegression\n",
    "from sklearn.pipeline import Pipeline\n",
    "from sklearn.preprocessing import PowerTransformer\n",
    "from sklearn.preprocessing import MinMaxScaler\n",
    "\n",
    "\n",
    "# load the dataset\n",
    "def load_dataset(full_path):\n",
    "\n",
    "    # load the dataset as a numpy array\n",
    "    data = read_csv(full_path, header=None)\n",
    "\n",
    "    # retrieve numpy array\n",
    "    data = data.values\n",
    "\n",
    "    #split into input and output elements\n",
    "    X, y = data[:, :-1], data[:, -1]\n",
    "\n",
    "    # label encode the target variable to have the classes 0 and 1\n",
    "    y = LabelEncoder().fit_transform(y)\n",
    "\n",
    "    return X, y\n",
    "\n",
    "\n",
    "# fit the model\n",
    "steps = [('t1', MinMaxScaler()),('t2', PowerTransformer()),('m',LogisticRegression(solver='lbfgs'))]\n",
    "model = Pipeline(steps=steps)\n",
    "model.fit(X, y)\n",
    "\n",
    "# some survival cases\n",
    "print('Survival Cases:')\n",
    "data = [[31,59,2], [31,65,4], [34,60,1]]\n",
    "\n",
    "\n",
    "for row in data:\n",
    "    # make prediction\n",
    "    yhat = model.predict_proba([row])\n",
    "\n",
    "    # get percentage of survival\n",
    "    p_survive = yhat[0, 0] * 100\n",
    "\n",
    "    # summarize\n",
    "    print('>data=%s, Survival=%.3f%%' % (row, p_survive))\n",
    "\n",
    "\n",
    "print('Non-Survival Cases:')\n",
    "data = [[44,64,6], [34,66,9], [38,69,21]]\n",
    "for row in data:\n",
    "    # make prediction\n",
    "    yhat = model.predict_proba([row])\n",
    "\n",
    "    # get percentage of survival\n",
    "    p_survive = yhat[0, 0] * 100\n",
    "\n",
    "    # summarize\n",
    "    print('>data=%s, Survival=%.3f%%' % (row, p_survive))"
   ]
  },
  {
   "cell_type": "code",
   "execution_count": null,
   "metadata": {},
   "outputs": [],
   "source": []
  },
  {
   "cell_type": "code",
   "execution_count": null,
   "metadata": {},
   "outputs": [],
   "source": []
  }
 ],
 "metadata": {
  "kernelspec": {
   "display_name": "Python 3.10.4 64-bit",
   "language": "python",
   "name": "python3"
  },
  "language_info": {
   "codemirror_mode": {
    "name": "ipython",
    "version": 3
   },
   "file_extension": ".py",
   "mimetype": "text/x-python",
   "name": "python",
   "nbconvert_exporter": "python",
   "pygments_lexer": "ipython3",
   "version": "3.10.4"
  },
  "orig_nbformat": 4,
  "vscode": {
   "interpreter": {
    "hash": "f0af3aa2466c33c6431bfb6d8de92908ba4694b04397b92dd94bf4bb90d229b3"
   }
  }
 },
 "nbformat": 4,
 "nbformat_minor": 2
}
